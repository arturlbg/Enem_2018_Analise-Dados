{
 "cells": [
  {
   "cell_type": "code",
   "execution_count": 1,
   "metadata": {},
   "outputs": [
    {
     "data": {
      "image/png": "[encoded data removed]",
      "text/plain": [
       "<Figure size 432x288 with 1 Axes>"
      ]
     },
     "metadata": {
      "needs_background": "light"
     },
     "output_type": "display_data"
    }
   ],
   "source": [
    "import pandas as pd\n",
    "import matplotlib.pyplot as plt\n",
    "import statistics as stat\n",
    "import seaborn as sns\n",
    "def str_to_num(s):\n",
    "    letras = 'ABCDEFGHIJKLMNOPQ'\n",
    "    num = letras.index(s)\n",
    "    return num\n",
    "\n",
    "\n",
    "colunas_enem = ['Q006']\n",
    "renda = pd.read_csv('MICRODADOS_ENEM_2018.csv',sep=';',encoding = 'ISO-8859-1',usecols = colunas_enem)\n",
    "\n",
    "mediana_renda = 'ABCDEFGHIJKLMNOPQ'[int(stat.median(renda['Q006'].apply(str_to_num)))] #calcula a mediana das rendas e retorna sua classe\n",
    "media_renda = 'ABCDEFGHIJKLMNOPQ'[int((renda['Q006'].apply(str_to_num)).mean())] #calcula a media das rendas e retorna sua classe, arredondando para baixo\n",
    "\n",
    "moda_renda = dict(renda['Q006'].value_counts()) #dicionario com chaves A-Q, representando as classes, e valores iguais ao numero de ocorrencia de cada classe\n",
    "\n",
    "plt.bar(range(len(moda_renda)),list(moda_renda.values()),align='center')\n",
    "plt.xticks(range(len(moda_renda)), list(moda_renda.keys()))\n",
    "plt.show()"
   ]
  },
  {
   "cell_type": "code",
   "execution_count": null,
   "metadata": {},
   "outputs": [],
   "source": []
  }
 ],
 "metadata": {
  "kernelspec": {
   "display_name": "Python 3",
   "language": "python",
   "name": "python3"
  },
  "language_info": {
   "codemirror_mode": {
    "name": "ipython",
    "version": 3
   },
   "file_extension": ".py",
   "mimetype": "text/x-python",
   "name": "python",
   "nbconvert_exporter": "python",
   "pygments_lexer": "ipython3",
   "version": "3.8.5"
  }
 },
 "nbformat": 4,
 "nbformat_minor": 4
}
