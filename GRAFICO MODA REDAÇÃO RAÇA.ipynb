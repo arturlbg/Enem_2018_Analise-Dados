{
 "cells": [
  {
   "cell_type": "code",
   "execution_count": null,
   "metadata": {},
   "outputs": [],
   "source": []
  },
  {
   "cell_type": "code",
   "execution_count": 6,
   "metadata": {},
   "outputs": [
    {
     "data": {
      "image/png": "[encoded data removed]",
      "text/plain": [
       "<Figure size 432x288 with 1 Axes>"
      ]
     },
     "metadata": {
      "needs_background": "light"
     },
     "output_type": "display_data"
    }
   ],
   "source": [
    "import pandas as pd\n",
    "import matplotlib.pyplot as plt\n",
    "import seaborn as sns\n",
    "def num_to_raca(n):\n",
    "    raca_dict = {1:'Branca',2:'Preta',3:'Parda',4:'Amarela',5:'Indigena',0:'Nao declarada'}\n",
    "    return raca_dict[n]\n",
    "\n",
    "colunas_enem = ['NU_NOTA_REDACAO','TP_COR_RACA']\n",
    "redacao_raca = pd.read_csv('MICRODADOS_ENEM_2018.csv',sep=';',encoding = 'ISO-8859-1',usecols = colunas_enem)\n",
    "\n",
    "redMedia = redacao_raca['NU_NOTA_REDACAO'].mean()\n",
    "redMedia = round(redMedia, 2)\n",
    "redacao_raca.update(redacao_raca['NU_NOTA_REDACAO'].fillna(redMedia))\n",
    "\n",
    "notas_mil = redacao_raca[redacao_raca['NU_NOTA_REDACAO'] == 1000] #dataframe onde as notas 1000 sao reunidas\n",
    "num_raca = pd.DataFrame(data=(notas_mil['TP_COR_RACA'].value_counts())) #dataframe com as racas e a quantidade que cada raca aparece\n",
    "\n",
    "#popula um dicionario com as devidas quantidades que cada raca aparece, substituindo o valor numerico por sua palavra equivalente\n",
    "df = {'Branca':0,'Preta':0,'Parda':0,'Amarela':0,'Indigena':0,'Nao declarada':0,}\n",
    "for i in num_raca.iterrows():\n",
    "    df[num_to_raca(i[0])] = [i[1][0]]\n",
    "\n",
    "#plota o grafico\n",
    "plt.bar(range(len(df)),list(df.values()),align='center')\n",
    "plt.xticks(range(len(df)), list(df.keys()))\n",
    "plt.show()"
   ]
  },
  {
   "cell_type": "code",
   "execution_count": null,
   "metadata": {},
   "outputs": [],
   "source": []
  }
 ],
 "metadata": {
  "kernelspec": {
   "display_name": "Python 3",
   "language": "python",
   "name": "python3"
  },
  "language_info": {
   "codemirror_mode": {
    "name": "ipython",
    "version": 3
   },
   "file_extension": ".py",
   "mimetype": "text/x-python",
   "name": "python",
   "nbconvert_exporter": "python",
   "pygments_lexer": "ipython3",
   "version": "3.8.5"
  }
 },
 "nbformat": 4,
 "nbformat_minor": 4
}
