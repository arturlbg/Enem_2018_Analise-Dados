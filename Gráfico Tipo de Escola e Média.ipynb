{
 "cells": [
  {
   "cell_type": "code",
   "execution_count": 1,
   "metadata": {},
   "outputs": [
    {
     "data": {
      "text/plain": [
       "<matplotlib.axes._subplots.AxesSubplot at 0x61d6689288>"
      ]
     },
     "execution_count": 1,
     "metadata": {},
     "output_type": "execute_result"
    },
    {
     "data": {
      "image/png": "[encoded data removed]",
      "text/plain": [
       "<Figure size 432x288 with 1 Axes>"
      ]
     },
     "metadata": {},
     "output_type": "display_data"
    }
   ],
   "source": [
    "import pandas as pd\n",
    "import matplotlib.pyplot as plt\n",
    "import seaborn as sns\n",
    "import numpy as np\n",
    "\n",
    "colunasEnem = ['NU_NOTA_CN', 'NU_NOTA_CH', 'NU_NOTA_LC', 'NU_NOTA_MT','NU_NOTA_REDACAO','TP_ESCOLA']\n",
    "\n",
    "enem = pd.read_csv('MICRODADOS_ENEM_2018.csv', sep=\";\", encoding='ISO-8859-1', usecols= colunasEnem)\n",
    "\n",
    "cnMedia = enem['NU_NOTA_CN'].mean()\n",
    "cnMedia = round(cnMedia, 2)\n",
    "enem.update(enem['NU_NOTA_CN'].fillna(cnMedia))\n",
    "\n",
    "chMedia = enem['NU_NOTA_CH'].mean()\n",
    "chMedia = round(chMedia, 2)\n",
    "enem.update(enem['NU_NOTA_CH'].fillna(chMedia))\n",
    "\n",
    "lcMedia = enem['NU_NOTA_LC'].mean()\n",
    "lcMedia = round(lcMedia, 2)\n",
    "enem.update(enem['NU_NOTA_LC'].fillna(lcMedia))\n",
    "\n",
    "mtMedia = enem['NU_NOTA_MT'].mean()\n",
    "mtMedia = round(mtMedia, 2)\n",
    "enem.update(enem['NU_NOTA_MT'].fillna(mtMedia))\n",
    "\n",
    "redMedia = enem['NU_NOTA_REDACAO'].mean()\n",
    "redMedia = round(redMedia, 2)\n",
    "enem.update(enem['NU_NOTA_REDACAO'].fillna(redMedia))\n",
    "\n",
    "enem['NOTA MEDIA'] = (enem['NU_NOTA_CH'] + enem['NU_NOTA_LC'] + enem['NU_NOTA_MT'] + enem['NU_NOTA_CN'] + enem['NU_NOTA_REDACAO'])/5\n",
    "\n",
    "enem.rename({'TP_ESCOLA':'TIPO DE ESCOLA'},inplace = True, axis='columns')\n",
    "\n",
    "def tp_escola(num):\n",
    "    if num == 1:\n",
    "        return np.NaN\n",
    "    if num == 2:\n",
    "        return 'ESCOLA PUBLICA'\n",
    "    if num == 3:\n",
    "        return 'ESCOLA PRIVADA'\n",
    "    if num == 4:\n",
    "        return 'EXTERIOR'\n",
    "enem['TIPO DE ESCOLA'] = enem['TIPO DE ESCOLA'].map(tp_escola)\n",
    "\n",
    "sns.set_style('darkgrid')\n",
    "sns.barplot(x='TIPO DE ESCOLA', y='NOTA MEDIA', data=enem)"
   ]
  },
  {
   "cell_type": "code",
   "execution_count": null,
   "metadata": {},
   "outputs": [],
   "source": []
  }
 ],
 "metadata": {
  "kernelspec": {
   "display_name": "Python 3",
   "language": "python",
   "name": "python3"
  },
  "language_info": {
   "codemirror_mode": {
    "name": "ipython",
    "version": 3
   },
   "file_extension": ".py",
   "mimetype": "text/x-python",
   "name": "python",
   "nbconvert_exporter": "python",
   "pygments_lexer": "ipython3",
   "version": "3.7.6"
  }
 },
 "nbformat": 4,
 "nbformat_minor": 4
}
