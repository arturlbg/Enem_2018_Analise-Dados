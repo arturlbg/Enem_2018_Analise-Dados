{
 "cells": [
  {
   "cell_type": "code",
   "execution_count": 1,
   "metadata": {},
   "outputs": [
    {
     "data": {
      "image/png": "[encoded data removed]",
      "text/plain": [
       "<Figure size 432x288 with 1 Axes>"
      ]
     },
     "metadata": {
      "needs_background": "light"
     },
     "output_type": "display_data"
    }
   ],
   "source": [
    "import pandas as pd\n",
    "import matplotlib.pyplot as plt\n",
    "\n",
    "colunas_enem = ['NU_NOTA_REDACAO','Q006']\n",
    "redacao_renda = pd.read_csv('MICRODADOS_ENEM_2018.csv',sep=';',encoding = 'ISO-8859-1',usecols = colunas_enem, nrows=5000)\n",
    "\n",
    "notas_mil = redacao_renda[redacao_renda['NU_NOTA_REDACAO'] == 1000] #dataframe com todas as linhas onde a redacao tem nota 1000\n",
    "num_renda = pd.DataFrame(data=(notas_mil['Q006'].value_counts())) #dataframe com as classes de renda e o numero de ocorrencia de cada uma entre as notas 1000\n",
    "\n",
    "df = {} #dicionario a ser populado com chaves equivalente as classes de renda e valores equivalendo aos valores\n",
    "for i in num_renda.iterrows():\n",
    "    df[i[0]] = i[1][0]\n",
    "\n",
    "plt.bar(range(len(df)),list(df.values()),align='center')\n",
    "plt.xticks(range(len(df)), list(df.keys()))\n",
    "plt.show()"
   ]
  },
  {
   "cell_type": "code",
   "execution_count": null,
   "metadata": {},
   "outputs": [],
   "source": []
  }
 ],
 "metadata": {
  "kernelspec": {
   "display_name": "Python 3",
   "language": "python",
   "name": "python3"
  },
  "language_info": {
   "codemirror_mode": {
    "name": "ipython",
    "version": 3
   },
   "file_extension": ".py",
   "mimetype": "text/x-python",
   "name": "python",
   "nbconvert_exporter": "python",
   "pygments_lexer": "ipython3",
   "version": "3.8.5"
  }
 },
 "nbformat": 4,
 "nbformat_minor": 4
}
